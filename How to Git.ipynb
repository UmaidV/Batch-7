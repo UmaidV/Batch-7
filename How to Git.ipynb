{
 "cells": [
  {
   "cell_type": "markdown",
   "metadata": {},
   "source": [
    "Open Bash...\n",
    "\n",
    "go to d: drive git folder, right click and choose bash here"
   ]
  },
  {
   "cell_type": "markdown",
   "metadata": {},
   "source": [
    "1 st step is to declare a name and email ID\n",
    "\n",
    "1. $ git config --global user.name umaid (this is to set username)\n",
    "\n",
    "2. $ git config --global user.name (this is to check username)\n",
    "\n",
    "3. \n",
    "\n"
   ]
  },
  {
   "cell_type": "markdown",
   "metadata": {},
   "source": [
    "File types:\n",
    "    \n",
    "1. Untracked (before commit)\n",
    "2. Unmodified \n",
    "3. Modified\n",
    "4. Staged"
   ]
  },
  {
   "cell_type": "markdown",
   "metadata": {},
   "source": [
    "### Commit the file\n",
    "\n",
    "\n",
    "after initialize \n",
    "\n",
    "esc + : + w + q + enter(to go back to the console window)\n"
   ]
  },
  {
   "cell_type": "code",
   "execution_count": null,
   "metadata": {},
   "outputs": [],
   "source": []
  }
 ],
 "metadata": {
  "kernelspec": {
   "display_name": "Python 3",
   "language": "python",
   "name": "python3"
  },
  "language_info": {
   "codemirror_mode": {
    "name": "ipython",
    "version": 3
   },
   "file_extension": ".py",
   "mimetype": "text/x-python",
   "name": "python",
   "nbconvert_exporter": "python",
   "pygments_lexer": "ipython3",
   "version": "3.8.5"
  }
 },
 "nbformat": 4,
 "nbformat_minor": 4
}
