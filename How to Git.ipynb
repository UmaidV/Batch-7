{
 "cells": [
  {
   "cell_type": "markdown",
   "metadata": {},
   "source": [
    "Open Bash...\n",
    "\n",
    "go to d: drive git folder, right click and choose bash here"
   ]
  },
  {
   "cell_type": "markdown",
   "metadata": {},
   "source": [
    "1 st step is to declare a name and email ID\n",
    "\n",
    "1. git config --global user.name umaid (this is to set username)\n",
    "\n",
    "2. git config --global user.name (this is to check username)\n",
    "\n",
    "3. git config --global user.email umaidvg@gmail.com\n",
    "\n",
    "4. git init (to initialize the repository)\n",
    "\n",
    "5. git status(will tell you what is staged, unstaged, new/old etc)\n",
    "\n",
    "6. git add -A git add fileName\n",
    "\n",
    "7. git commit\n",
    "(when committing for the 1 st time...new screen will open. Press I, write initial commit, press esc+ : + w + q + enter\n",
    "\n",
    "8. ls -lart\n",
    "\n",
    "9. To create a new file in terminal\n",
    "\n",
    "touch file_name.ipynb\n",
    "\n",
    "10. Pushing a file:\n",
    "\n",
    "1st create repository on git account. then:\n",
    "\n",
    "git push -u origin master git@github.com:[file path copied from github]\n",
    "\n"
   ]
  },
  {
   "cell_type": "markdown",
   "metadata": {},
   "source": [
    "File types:\n",
    "    \n",
    "1. Untracked (before commit)\n",
    "2. Unmodified \n",
    "3. Modified\n",
    "4. Staged"
   ]
  },
  {
   "cell_type": "markdown",
   "metadata": {},
   "source": [
    "### Commit the file\n",
    "\n",
    "\n",
    "after initialize \n",
    "\n",
    "esc + : + w + q + enter(to go back to the console window)\n"
   ]
  },
  {
   "cell_type": "code",
   "execution_count": null,
   "metadata": {},
   "outputs": [],
   "source": []
  }
 ],
 "metadata": {
  "kernelspec": {
   "display_name": "Python 3",
   "language": "python",
   "name": "python3"
  },
  "language_info": {
   "codemirror_mode": {
    "name": "ipython",
    "version": 3
   },
   "file_extension": ".py",
   "mimetype": "text/x-python",
   "name": "python",
   "nbconvert_exporter": "python",
   "pygments_lexer": "ipython3",
   "version": "3.8.5"
  }
 },
 "nbformat": 4,
 "nbformat_minor": 4
}
